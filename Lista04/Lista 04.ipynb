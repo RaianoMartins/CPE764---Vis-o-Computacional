{
 "cells": [
  {
   "cell_type": "markdown",
   "id": "55a40e33-d381-445c-b6e6-491ee930a167",
   "metadata": {},
   "source": [
    "#### Bibliotecas utilizadas"
   ]
  },
  {
   "cell_type": "code",
   "execution_count": 1,
   "id": "890f0874-5bbd-42c0-a96c-7797b6864a85",
   "metadata": {},
   "outputs": [],
   "source": [
    "import numpy as np\n",
    "from scipy import linalg\n",
    "import matplotlib.pyplot as plt"
   ]
  },
  {
   "cell_type": "markdown",
   "id": "dd912ab3-613e-476e-8b72-bedf82da6609",
   "metadata": {},
   "source": [
    "#### I Projeções"
   ]
  },
  {
   "cell_type": "markdown",
   "id": "f7e5c1b0-30cd-43b3-bab6-316a4ac8d3c0",
   "metadata": {},
   "source": [
    "#### Coordenadas do cubo no espaço e no plano da câmera"
   ]
  },
  {
   "cell_type": "code",
   "execution_count": 22,
   "id": "f0259a3e-3f04-49e2-afe6-1c4904710ab7",
   "metadata": {},
   "outputs": [
    {
     "name": "stdout",
     "output_type": "stream",
     "text": [
      "[[ 2  2  2]\n",
      " [-2  2  2]\n",
      " [-2  2 -2]\n",
      " [ 2  2 -2]\n",
      " [ 2 -2  2]\n",
      " [-2 -2  2]\n",
      " [-2 -2 -2]\n",
      " [ 2 -2 -2]]\n",
      "[[422 323]\n",
      " [178 323]\n",
      " [118 483]\n",
      " [482 483]\n",
      " [438  73]\n",
      " [162  73]\n",
      " [ 78 117]\n",
      " [522 117]]\n"
     ]
    }
   ],
   "source": [
    "cube_vertices_3d = np.array([[ 2,  2,  2],\n",
    "                             [-2,  2,  2],\n",
    "                             [-2,  2, -2],\n",
    "                             [ 2,  2, -2],\n",
    "                             [ 2, -2,  2],\n",
    "                             [-2, -2,  2],\n",
    "                             [-2, -2, -2],\n",
    "                             [ 2, -2, -2]])\n",
    "\n",
    "cube_vertices_image = np.array([[422, 323],\n",
    "                                [178, 323],\n",
    "                                [118, 483],\n",
    "                                [482, 483],\n",
    "                                [438, 73],\n",
    "                                [162, 73],\n",
    "                                [78, 117],\n",
    "                                [522, 117]])\n",
    "print(cube_vertices_3d)\n",
    "print(cube_vertices_image)"
   ]
  },
  {
   "cell_type": "markdown",
   "id": "ecb36f6d-9350-4b9d-b3eb-3fa3da25e74d",
   "metadata": {},
   "source": [
    "#### Funções para normalizar os pontos"
   ]
  },
  {
   "cell_type": "code",
   "execution_count": 8,
   "id": "9d8870b4-ccf0-4ff8-beb4-c406508260f0",
   "metadata": {},
   "outputs": [],
   "source": [
    "def normalize_points_3d(points):\n",
    "    centroid       = np.array([np.mean(points[:,0]), np.mean(points[:,1]), np.mean(points[:,2])])\n",
    "    shifted_points = np.transpose(np.array( [points[:,0]-centroid[0], points[:,1]-centroid[1], points[:,2]-centroid[2]]))\n",
    "\n",
    "    avg_dist   = 0;\n",
    "    number_pts = points.shape[0]\n",
    "    for i in range(number_pts):\n",
    "        avg_dist += np.sqrt((shifted_points[i,0] ** 2 + shifted_points[i,1] ** 2 + shifted_points[i,2] ** 2))\n",
    "    avg_dist /= number_pts\n",
    "    \n",
    "    scale = np.sqrt(3) / avg_dist\n",
    "\n",
    "    T = np.array([[scale,   0,     0, -scale * centroid[0]], \n",
    "                  [ 0,  scale,     0, -scale * centroid[1]], \n",
    "                  [ 0,      0, scale, -scale * centroid[2]],\n",
    "                  [ 0,      0,     0,          1]] ) \n",
    "\n",
    "    n = points.shape[0]\n",
    "    homogeneous_points = np.hstack((points, np.ones((n, 1))))\n",
    "    normalized_points_homogeneous = (T @ homogeneous_points.T).T\n",
    "    normalized_points = normalized_points_homogeneous[:, :3]\n",
    "\n",
    "    return normalized_points, T\n",
    "\n",
    "def normalize_points(points):\n",
    "    centroid       = np.array([np.mean(points[:,0]), np.mean(points[:,1])])\n",
    "    shifted_points = np.transpose(np.array( [points[:,0]-centroid[0], points[:,1]-centroid[1]]))\n",
    "\n",
    "    avg_dist   = 0;\n",
    "    number_pts = points.shape[0]\n",
    "    for i in range(number_pts):\n",
    "        avg_dist += np.sqrt(shifted_points[i,0] ** 2 + shifted_points[i,1] ** 2)\n",
    "    avg_dist /= number_pts\n",
    "    \n",
    "    scale = np.sqrt(2) / avg_dist\n",
    "\n",
    "    T = np.array([[scale,   0, -scale * centroid[0]], \n",
    "                  [ 0,  scale, -scale * centroid[1]], \n",
    "                  [ 0,      0,         1]] )\n",
    "\n",
    "    n = points.shape[0]\n",
    "    homogeneous_points = np.hstack((points, np.ones((n, 1))))\n",
    "    normalized_points_homogeneous = (T @ homogeneous_points.T).T\n",
    "    normalized_points = normalized_points_homogeneous[:, :2]\n",
    "\n",
    "    return normalized_points, T"
   ]
  },
  {
   "cell_type": "markdown",
   "id": "09590b99-6a14-4d36-b1a7-3d2ea5641dad",
   "metadata": {},
   "source": [
    "#### 1 - Plot das arestas do cubo projetadas no plano da câmera"
   ]
  },
  {
   "cell_type": "code",
   "execution_count": 11,
   "id": "de7c1c7d-a1a7-46f3-abf7-783430b394ff",
   "metadata": {},
   "outputs": [
    {
     "data": {
      "image/png": "[encoded data removed]",
      "text/plain": [
       "<Figure size 800x800 with 1 Axes>"
      ]
     },
     "metadata": {},
     "output_type": "display_data"
    }
   ],
   "source": [
    "edges = [(0, 1), (1, 2), (2, 3), (3, 0),  \n",
    "         (4, 5), (5, 6), (6, 7), (7, 4),  \n",
    "         (0, 4), (1, 5), (2, 6), (3, 7)]  \n",
    "\n",
    "plt.figure(figsize=(8, 8))\n",
    "for edge in edges:\n",
    "    start, end = edge\n",
    "    plt.plot( [cube_vertices_image[start, 0], cube_vertices_image[end, 0]],\n",
    "              [cube_vertices_image[start, 1], cube_vertices_image[end, 1]],\n",
    "               'ro-', markersize=4)\n",
    "\n",
    "plt.gca().invert_yaxis()\n",
    "plt.title(\"Projeção das Arestas do Cubo no Plano da Câmera\")\n",
    "plt.xlabel(\"Coordenada X (pixels)\")\n",
    "plt.ylabel(\"Coordenada Y (pixels)\")\n",
    "plt.grid()\n",
    "plt.show()"
   ]
  },
  {
   "cell_type": "markdown",
   "id": "07dc5a3f-05fb-4d0e-b218-46b95b3950d5",
   "metadata": {},
   "source": [
    "#### 2 - Cálculo da matriz de projeção P da câmera"
   ]
  },
  {
   "cell_type": "code",
   "execution_count": 14,
   "id": "b905353f-6032-40b0-92ec-f41b1e71b4c5",
   "metadata": {},
   "outputs": [
    {
     "name": "stdout",
     "output_type": "stream",
     "text": [
      "P: [[4.60427137e+01 6.76229152e+00 1.88024492e+01 1.75715226e+02]\n",
      " [1.07130557e-17 4.88954065e+01 1.65384701e-02 1.46393425e+02]\n",
      " [4.62989645e-17 2.25409717e-02 6.26748307e-02 5.85717421e-01]]\n"
     ]
    }
   ],
   "source": [
    "# Algoritmo DLT normalizado para calcular a matriz P da câmera\n",
    "\n",
    "n = cube_vertices_3d.shape[0]\n",
    "A = np.zeros((2 * n, 12)) \n",
    "\n",
    "cube_image_norm, T_img = normalize_points(cube_vertices_image);\n",
    "cube_3d_norm, T_cube   = normalize_points_3d(cube_vertices_3d);\n",
    "\n",
    "for i in range(n):\n",
    "    X, Y, Z      = cube_3d_norm[i]\n",
    "    x, y         = cube_image_norm[i]\n",
    "    A[2 * i]     = [X, Y, Z, 1, 0, 0, 0, 0, -x * X, -x * Y, -x * Z, -x]\n",
    "    A[2 * i + 1] = [0, 0, 0, 0, X, Y, Z, 1, -y * X, -y * Y, -y * Z, -y]\n",
    "\n",
    "A = np.array(A)\n",
    "U, S, Vt = linalg.svd(A)\n",
    "P  = Vt[-1].reshape(3, 4)\n",
    "P  = np.linalg.inv(T_img) @ P @ T_cube\n",
    "\n",
    "# Matriz P\n",
    "print(\"P:\",P)"
   ]
  },
  {
   "cell_type": "markdown",
   "id": "277b8ac8-8329-40ab-bd2e-c8bedc2e7f96",
   "metadata": {},
   "source": [
    "#### 3 - Cálculo dos parâmetros intrínsecos (K) e extrínsecos (R; t) da câmera."
   ]
  },
  {
   "cell_type": "code",
   "execution_count": 17,
   "id": "8310d34f-d224-48ef-9e86-69186716e469",
   "metadata": {},
   "outputs": [],
   "source": [
    "# Decompondo P\n",
    "M = P[:, :3]\n",
    "t = P[:, 3]\n",
    "\n",
    "# Fatoração RQ \n",
    "K, R = linalg.rq(np.linalg.inv(M))  \n",
    "\n",
    "T = np.diag(np.sign(np.diag(K)))  # Matriz diagonal com os sinais dos elementos da diagonal de K\n",
    "K = K @ T                         # Correção dos sinais da diagonal de K\n",
    "R = T @ R                         # Compensação da correção dos sinais da diagonal de K\n",
    "K /= K[2, 2]                      # Normalização do último elemento de K\n",
    "\n",
    "# Centro óptico da câmera em relação ao centro do cubo\n",
    "C_til = -linalg.inv(M) @ t\n",
    "\n",
    "# Distâncias focais \n",
    "f1 = K[0, 0] \n",
    "f2 = K[1, 1]"
   ]
  },
  {
   "cell_type": "markdown",
   "id": "afc78d4c-c196-4946-a562-9dae9a8a8360",
   "metadata": {},
   "source": [
    "#### Resultados"
   ]
  },
  {
   "cell_type": "code",
   "execution_count": 20,
   "id": "d308edd8-d3dd-47b4-9265-4ed87e8e423f",
   "metadata": {},
   "outputs": [
    {
     "name": "stdout",
     "output_type": "stream",
     "text": [
      "K: [[ 1.36106660e-03 -1.88237072e-04 -4.08319936e-01]\n",
      " [ 0.00000000e+00  1.28165809e-03 -3.38832645e-04]\n",
      " [ 0.00000000e+00  0.00000000e+00  1.00000000e+00]]\n",
      "\n",
      "R: [[ 1.00000000e+00  2.32676461e-19  1.00556550e-18]\n",
      " [-2.33140006e-19  9.99999894e-01  4.61003824e-04]\n",
      " [-1.00545813e-18 -4.61003824e-04  9.99999894e-01]]\n",
      "\n",
      "t: [175.71522645 146.39342494   0.58571742]\n",
      "\n",
      "C_til: [-2.22044605e-15 -2.99121471e+00 -8.26954823e+00]\n",
      "\n",
      "Distâncias focais: 0.0013610665972669848 0.0012816580855488293\n"
     ]
    }
   ],
   "source": [
    "print(\"K:\",K)\n",
    "print(\"\")\n",
    "print(\"R:\",R)\n",
    "print(\"\")\n",
    "print(\"t:\",t)\n",
    "print(\"\")\n",
    "print(\"C_til:\",C_til)\n",
    "print(\"\")\n",
    "print(\"Distâncias focais:\",f1,f2)"
   ]
  },
  {
   "cell_type": "markdown",
   "id": "46c592f4-5979-4d56-856c-f94b939722c3",
   "metadata": {},
   "source": [
    "#### A posição do centro ótico da câmera do robô em relação ao centro do cubo é:\n",
    "$$ \\tilde{C} = \n",
    "\\begin{bmatrix}\n",
    "-2.22044605 \\times 10^{-15} \\\\\n",
    "-2.99121471 \\\\\n",
    "-8.26954823\n",
    "\\end{bmatrix}$$"
   ]
  },
  {
   "cell_type": "markdown",
   "id": "7a5a0104-848a-42d1-8422-953a81ad1408",
   "metadata": {},
   "source": [
    "#### Levando em consideração as flutuações numéricas dado a precisão na representação dos valores e fazendo as devidas aproximações, a distância focal da câmera é:\n",
    "\n",
    "$$ f \\approx 0.0013$$"
   ]
  }
 ],
 "metadata": {
  "kernelspec": {
   "display_name": "Python 3 (ipykernel)",
   "language": "python",
   "name": "python3"
  },
  "language_info": {
   "codemirror_mode": {
    "name": "ipython",
    "version": 3
   },
   "file_extension": ".py",
   "mimetype": "text/x-python",
   "name": "python",
   "nbconvert_exporter": "python",
   "pygments_lexer": "ipython3",
   "version": "3.12.3"
  }
 },
 "nbformat": 4,
 "nbformat_minor": 5
}
